{
 "cells": [
  {
   "cell_type": "code",
   "execution_count": null,
   "metadata": {},
   "outputs": [],
   "source": [
    "import numpy as np\n",
    "import pandas as pd\n",
    "import matplotlib.pyplot as plt\n",
    "import seaborn as sns # for plotting\n",
    "from sklearn.impute import SimpleImputer # for imputing missing values\n",
    "from sklearn.preprocessing import StandardScaler # for standardizing data\n",
    "from csvToExcel import toExcel\n",
    "from tensorflow import keras # for building Neural Networks\n",
    "from keras.models import Sequential # for creating a linear stack of layers for our Neural Network\n",
    "from keras import Input # for instantiating a keras tensor\n",
    "from keras.layers import Dense, SimpleRNN # for creating regular densely-connected NN layers and RNN layers"
   ]
  },
  {
   "cell_type": "code",
   "execution_count": null,
   "metadata": {},
   "outputs": [],
   "source": [
    "def checkMissingData():\n",
    "    df = pd.read_csv('DataFolder/data.csv')\n",
    "    print(df.info())\n",
    "    \n",
    "checkMissingData()"
   ]
  },
  {
   "cell_type": "code",
   "execution_count": null,
   "metadata": {},
   "outputs": [],
   "source": [
    "# Fill missing values with mean\n",
    "def missingDataHandler():\n",
    "    df = pd.read_csv('DataFolder/data.csv')\n",
    "    imputer = SimpleImputer(missing_values = np.nan, strategy = 'mean')\n",
    "    # From the missing data analysis, we know that the columns 'Daily tests', 'Cases', 'Deaths' have missing values\n",
    "    missingColumns = ['Daily tests', 'Cases', 'Deaths']\n",
    "    for column in missingColumns:\n",
    "        df[column] = imputer.fit_transform(df[column].values.reshape(-1, 1))\n",
    "    print(df.info())\n",
    "    return df\n",
    "    \n",
    "dataFrame = missingDataHandler()\n",
    "toExcel(dataFrame, 'preprocessedData')"
   ]
  },
  {
   "cell_type": "code",
   "execution_count": null,
   "metadata": {},
   "outputs": [],
   "source": [
    "# Get the data for Greece until 2020-12-31\n",
    "def getGreeceData(df):\n",
    "    df = df[df['Entity'] == 'Greece']\n",
    "    df = df[df['Date'] <= '2020-12-31']\n",
    "    return df\n",
    "\n",
    "dataFrame2 = getGreeceData(dataFrame)"
   ]
  },
  {
   "cell_type": "code",
   "execution_count": null,
   "metadata": {},
   "outputs": [],
   "source": [
    "# Add new columns for positivity percent and daily cases\n",
    "def addPositivityPercent(df):\n",
    "    df['Daily Cases'] = abs(df['Cases'].diff())\n",
    "    df['Positivity percent'] = df['Daily Cases'] / df['Daily tests']\n",
    "    df['Date'] = pd.to_datetime(df['Date'])\n",
    "    imputer = SimpleImputer(missing_values = np.nan, strategy = 'mean')\n",
    "    df['Positivity percent'] = imputer.fit_transform(df['Positivity percent'].values.reshape(-1, 1))\n",
    "    df['Daily Cases'] = imputer.fit_transform(df['Daily Cases'].values.reshape(-1, 1))\n",
    "    return df\n",
    "\n",
    "dataset = addPositivityPercent(dataFrame2)\n",
    "toExcel(dataset, 'GreeceData')\n",
    "print(dataset.info())"
   ]
  },
  {
   "cell_type": "code",
   "execution_count": null,
   "metadata": {},
   "outputs": [],
   "source": [
    "# Here starts the training of the model\n",
    "X = dataset.iloc[:, 11].values # The independent variable is the dates\n",
    "y = dataset.iloc[:, -1].values # The dependent variable is the positivity percent\n",
    "X = X.reshape(len(X), 1)\n",
    "y = y.reshape(len(y), 1)"
   ]
  },
  {
   "cell_type": "code",
   "execution_count": null,
   "metadata": {},
   "outputs": [],
   "source": [
    "# Standardize the data\n",
    "sc_X = StandardScaler()\n",
    "sc_y = StandardScaler()\n",
    "X = sc_X.fit_transform(X)\n",
    "y = sc_y.fit_transform(y)"
   ]
  },
  {
   "cell_type": "code",
   "execution_count": null,
   "metadata": {},
   "outputs": [],
   "source": [
    "model = Sequential(name=\"First-RNN-Model\") # Model\n",
    "model.add(Input(shape = X.shape, name='Input-Layer')) # Input Layer - need to speicfy the shape of inputs\n",
    "model.add(SimpleRNN(units=1, activation='tanh', name='Hidden-Recurrent-Layer')) # Hidden Recurrent Layer, Tanh(x) = sinh(x)/cosh(x) = ((exp(x) - exp(-x))/(exp(x) + exp(-x)))\n",
    "model.add(Dense(units=1, activation='tanh', name='Hidden-Layer')) # Hidden Layer, Tanh(x) = sinh(x)/cosh(x) = ((exp(x) - exp(-x))/(exp(x) + exp(-x)))\n",
    "model.add(Dense(units=1, activation='linear', name='Output-Layer')) # Output Layer"
   ]
  },
  {
   "cell_type": "code",
   "execution_count": null,
   "metadata": {},
   "outputs": [],
   "source": [
    "model.compile(optimizer='adam', loss='mean_squared_error') # Compile the model\n",
    "# Fit keras model on the dataset\n",
    "model.fit(X, y)"
   ]
  },
  {
   "cell_type": "code",
   "execution_count": null,
   "metadata": {},
   "outputs": [],
   "source": [
    "# Get the data for Greece on 2021-01-01\n",
    "# We will use this data to predict the positivity percent\n",
    "newDataset = dataFrame[dataFrame['Entity'] == 'Greece']\n",
    "newDataset = newDataset[newDataset['Date'] == '2021-01-01']\n",
    "newDataset['Daily Cases'] = abs(newDataset['Cases'].diff())\n",
    "newDataset['Positivity percent'] = newDataset['Daily Cases'] / newDataset['Daily tests']\n",
    "newDataset['Date'] = pd.to_datetime(newDataset['Date'])\n",
    "# print(newDataset.info())\n",
    "testX = newDataset.iloc[:, 11].values\n",
    "# print(testX)"
   ]
  },
  {
   "cell_type": "code",
   "execution_count": null,
   "metadata": {},
   "outputs": [],
   "source": [
    "# Predict the result on training data\n",
    "pred_train = model.predict(testX)"
   ]
  }
 ],
 "metadata": {
  "kernelspec": {
   "display_name": "Python 3",
   "language": "python",
   "name": "python3"
  },
  "language_info": {
   "codemirror_mode": {
    "name": "ipython",
    "version": 3
   },
   "file_extension": ".py",
   "mimetype": "text/x-python",
   "name": "python",
   "nbconvert_exporter": "python",
   "pygments_lexer": "ipython3",
   "version": "3.7.4"
  },
  "orig_nbformat": 4
 },
 "nbformat": 4,
 "nbformat_minor": 2
}
