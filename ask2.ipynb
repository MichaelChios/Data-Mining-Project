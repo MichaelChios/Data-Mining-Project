{
 "cells": [
  {
   "cell_type": "code",
   "execution_count": null,
   "metadata": {},
   "outputs": [],
   "source": [
    "import pandas as pd\n",
    "import numpy as np\n",
    "import matplotlib.pyplot as plt\n",
    "import seaborn as sns # for plotting\n",
    "from scipy.stats import zscore # for standardizing data\n",
    "from sklearn.impute import SimpleImputer # for imputing missing values"
   ]
  },
  {
   "cell_type": "code",
   "execution_count": null,
   "metadata": {},
   "outputs": [],
   "source": [
    "def checkMissingData():\n",
    "    df = pd.read_csv('data.csv')\n",
    "    print(df.info())\n",
    "    \n",
    "# checkMissingData()"
   ]
  },
  {
   "cell_type": "code",
   "execution_count": null,
   "metadata": {},
   "outputs": [],
   "source": [
    "def missingDataHandler():\n",
    "    df = pd.read_csv('data.csv')\n",
    "    imputer = SimpleImputer(missing_values = np.nan, strategy = 'mean')\n",
    "    missingColumns = ['Daily tests', 'Cases', 'Deaths']\n",
    "    for column in missingColumns:\n",
    "        df[column] = imputer.fit_transform(df[column].values.reshape(-1, 1))\n",
    "    print(df.info())\n",
    "    \n",
    "# missingDataHandler()"
   ]
  },
  {
   "cell_type": "code",
   "execution_count": null,
   "metadata": {},
   "outputs": [],
   "source": [
    "def addNewColumns(entity):\n",
    "    df = pd.read_csv('data.csv')\n",
    "    df_filter = df[df.iloc[:, 0] == entity]\n",
    "    selectedColumns = ['Entity', 'Date', 'Cases', 'Deaths', \"Daily tests\"]\n",
    "    df_new = df_filter[selectedColumns]\n",
    "    df_new['Positivity Rate'] = df_new['Cases'] / df_new['Daily tests']\n",
    "    df_new['Mortality Rate'] = df_new['Deaths'] / df_new['Cases']\n",
    "    df_new['Date'] = pd.to_datetime(df_new['Date'])\n",
    "    "
   ]
  }
 ],
 "metadata": {
  "kernelspec": {
   "display_name": "Python 3",
   "language": "python",
   "name": "python3"
  },
  "language_info": {
   "codemirror_mode": {
    "name": "ipython",
    "version": 3
   },
   "file_extension": ".py",
   "mimetype": "text/x-python",
   "name": "python",
   "nbconvert_exporter": "python",
   "pygments_lexer": "ipython3",
   "version": "3.7.4"
  },
  "orig_nbformat": 4
 },
 "nbformat": 4,
 "nbformat_minor": 2
}
