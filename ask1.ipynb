{
 "cells": [
  {
   "cell_type": "code",
   "execution_count": null,
   "metadata": {},
   "outputs": [],
   "source": [
    "import pandas as pd\n",
    "import numpy as np\n",
    "import matplotlib.pyplot as plt\n",
    "import seaborn as sns # for plotting\n",
    "from scipy.stats import zscore # for standardizing data"
   ]
  },
  {
   "cell_type": "code",
   "execution_count": null,
   "metadata": {},
   "outputs": [],
   "source": [
    "# Function to fetch data about the cases and deaths of a country\n",
    "def countryData(country):\n",
    "    df = pd.read_csv('data.csv')\n",
    "    df_country = df[df.iloc[:,0] == country]\n",
    "    displayColumns = ['Entity', 'Date', 'Cases', 'Deaths']\n",
    "    df_display = df_country[displayColumns]\n",
    "    df_display['Daily Cases'] = abs(df_display['Cases'].diff())\n",
    "    df_display['Daily Deaths'] = abs(df_display['Deaths'].diff())\n",
    "    df_display['Date'] = pd.to_datetime(df_display['Date'])\n",
    "    #print(df_display)\n",
    "    return df_display"
   ]
  },
  {
   "cell_type": "code",
   "execution_count": null,
   "metadata": {},
   "outputs": [],
   "source": [
    "# Function to plot the data of a country\n",
    "def plotData(df):\n",
    "    fig, ax1 = plt.subplots()\n",
    "    \n",
    "    ax1.plot(df['Date'], df['Daily Cases'], color='blue')\n",
    "    ax1.set_xlabel('Date')\n",
    "    ax1.set_ylabel('Daily Cases', color='blue')\n",
    "    ax1.tick_params(axis='y', labelcolor='blue')\n",
    "    \n",
    "    ax2 = ax1.twinx()\n",
    "    ax2.plot(df['Date'], df['Daily Deaths'], color='red')\n",
    "    ax2.set_ylabel('Daily Deaths', color='red')\n",
    "    ax2.tick_params(axis='y', labelcolor='red')\n",
    "    \n",
    "    plt.title('Daily Cases and Deaths in ' + df['Entity'].iloc[0])\n",
    "    plt.show()"
   ]
  },
  {
   "cell_type": "code",
   "execution_count": null,
   "metadata": {},
   "outputs": [],
   "source": [
    "# Function to get the cases and deaths of all countries per continent\n",
    "def countriesPerContinentData():\n",
    "    df = pd.read_csv('data.csv')\n",
    "    deaths = df.groupby(['Entity', 'Continent'])['Deaths'].max()\n",
    "    cases = df.groupby(['Entity', 'Continent'])['Cases'].max()\n",
    "    data = np.empty((len(cases), 4), dtype=object) # 4 columns: country, continent, cases, deaths\n",
    "    for i, ((country, continent), case) in enumerate(cases.iteritems()):\n",
    "        data[i][0] = country\n",
    "        data[i][1] = continent\n",
    "        data[i][2] = case\n",
    "    for i, ((country, continent), death) in enumerate(deaths.iteritems()):\n",
    "        data[i][3] = death\n",
    "    \n",
    "    data = data[np.argsort(data[:, 1])]\n",
    "    # print(data)\n",
    "    return data"
   ]
  },
  {
   "cell_type": "code",
   "execution_count": 76,
   "metadata": {},
   "outputs": [],
   "source": [
    "# Function to create a histogram of the cases and deaths of all countries per continent\n",
    "def plotCountriesPerContinentData(data):\n",
    "    # Divide the data into 6 arrays, one for each continent\n",
    "    africa = data[data[:, 1] == 'Africa']\n",
    "    asia = data[data[:, 1] == 'Asia']\n",
    "    europe = data[data[:, 1] == 'Europe']\n",
    "    northAmerica = data[data[:, 1] == 'North America']\n",
    "    oceania = data[data[:, 1] == 'Oceania']\n",
    "    southAmerica = data[data[:, 1] == 'South America']\n",
    "    \n",
    "    continents = [africa, asia, europe, northAmerica, oceania, southAmerica]\n",
    "    \n",
    "    # Create a histogram for each continent\n",
    "    print('Histogram of cases per country in each continent')\n",
    "    for continent in continents:\n",
    "        countries = continent[:, 0]\n",
    "        cases = continent[:, 2].astype(int)\n",
    "        plt.gca().set_xticklabels(countries, rotation=90)\n",
    "        plt.bar(countries, cases)\n",
    "        plt.title('Cases per country in ' + continent[0][1])\n",
    "        plt.xlabel('Country')\n",
    "        plt.ylabel('Cases')\n",
    "        plt.show()\n",
    "        \n",
    "    print('Histogram of deaths per country in each continent')\n",
    "    for continent in continents:\n",
    "        countries = continent[:, 0]\n",
    "        deaths = continent[:, 3].astype(int)\n",
    "        plt.gca().set_xticklabels(countries, rotation=90)\n",
    "        plt.bar(countries, deaths)\n",
    "        plt.title('Deaths per country in ' + continent[0][1])\n",
    "        plt.xlabel('Country')\n",
    "        plt.ylabel('Deaths')\n",
    "        plt.show()"
   ]
  }
 ],
 "metadata": {
  "kernelspec": {
   "display_name": "Python 3",
   "language": "python",
   "name": "python3"
  },
  "language_info": {
   "codemirror_mode": {
    "name": "ipython",
    "version": 3
   },
   "file_extension": ".py",
   "mimetype": "text/x-python",
   "name": "python",
   "nbconvert_exporter": "python",
   "pygments_lexer": "ipython3",
   "version": "3.7.4"
  },
  "orig_nbformat": 4
 },
 "nbformat": 4,
 "nbformat_minor": 2
}
