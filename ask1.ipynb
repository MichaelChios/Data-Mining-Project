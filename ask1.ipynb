{
 "cells": [
  {
   "cell_type": "code",
   "execution_count": 25,
   "metadata": {},
   "outputs": [],
   "source": [
    "import pandas as pd\n",
    "import numpy as np\n",
    "import matplotlib.pyplot as plt\n",
    "import seaborn as sns # for plotting\n",
    "from scipy.stats import zscore # for standardizing data"
   ]
  },
  {
   "cell_type": "code",
   "execution_count": 26,
   "metadata": {},
   "outputs": [],
   "source": [
    "# Function to fetch data about the cases and deaths of a country\n",
    "def countryData(country):\n",
    "    df = pd.read_csv('data.csv')\n",
    "    df_country = df[df.iloc[:,0] == country]\n",
    "    displayColumns = ['Entity', 'Date', 'Cases', 'Deaths']\n",
    "    df_display = df_country[displayColumns]\n",
    "    df_display['Daily Cases'] = abs(df_display['Cases'].diff())\n",
    "    df_display['Daily Deaths'] = abs(df_display['Deaths'].diff())\n",
    "    df_display['Date'] = pd.to_datetime(df_display['Date'])\n",
    "    return df_display"
   ]
  },
  {
   "cell_type": "code",
   "execution_count": 27,
   "metadata": {},
   "outputs": [],
   "source": [
    "# Function to plot the data of a country\n",
    "def plotData(df):\n",
    "    fig, ax1 = plt.subplots()\n",
    "    \n",
    "    ax1.plot(df['Date'], df['Daily Cases'], color='blue')\n",
    "    ax1.set_xlabel('Date')\n",
    "    ax1.set_ylabel('Daily Cases', color='blue')\n",
    "    ax1.tick_params(axis='y', labelcolor='blue')\n",
    "    \n",
    "    ax2 = ax1.twinx()\n",
    "    ax2.plot(df['Date'], df['Daily Deaths'], color='red')\n",
    "    ax2.set_ylabel('Daily Deaths', color='red')\n",
    "    ax2.tick_params(axis='y', labelcolor='red')\n",
    "    \n",
    "    plt.title('Daily Cases and Deaths in ' + df['Entity'].iloc[0])\n",
    "    plt.show()"
   ]
  },
  {
   "cell_type": "code",
   "execution_count": 28,
   "metadata": {},
   "outputs": [],
   "source": [
    "# Function to get the cases and deaths of all countries per continent\n",
    "def countriesPerContinentData():\n",
    "    df = pd.read_csv('data.csv')\n",
    "    deaths = df.groupby(['Entity', 'Continent'])['Deaths'].max()\n",
    "    cases = df.groupby(['Entity', 'Continent'])['Cases'].max()\n",
    "    data = np.empty((len(cases), 4), dtype=object) # 4 columns: country, continent, cases, deaths\n",
    "    for i, ((country, continent), case) in enumerate(cases.iteritems()):\n",
    "        data[i][0] = country\n",
    "        data[i][1] = continent\n",
    "        data[i][2] = case\n",
    "    for i, ((country, continent), death) in enumerate(deaths.iteritems()):\n",
    "        data[i][3] = death\n",
    "    \n",
    "    data = data[np.argsort(data[:, 1])]\n",
    "    # print(data)\n",
    "    return data"
   ]
  },
  {
   "cell_type": "code",
   "execution_count": 29,
   "metadata": {},
   "outputs": [],
   "source": [
    "# Function to create a histogram of the cases and deaths of all countries per continent\n",
    "def plotCountriesPerContinentData(data, continent):\n",
    "    cont = data[data[:, 1] == continent] # Get the data of the continent\n",
    "    \n",
    "    # Create a histogram for each continent\n",
    "    print('Histogram of cases per country in ' + continent)\n",
    "    countries = cont[:, 0]\n",
    "    cases = cont[:, 2].astype(int)\n",
    "    plt.gca().set_xticklabels(countries, rotation=90)\n",
    "    plt.bar(countries, cases)\n",
    "    plt.title('Cases per country in ' + cont[0][1])\n",
    "    plt.xlabel('Country')\n",
    "    plt.ylabel('Cases')\n",
    "    plt.show()\n",
    "        \n",
    "    print('Histogram of deaths per country in ' + continent)\n",
    "    countries = cont[:, 0]\n",
    "    deaths = cont[:, 3].astype(int)\n",
    "    plt.gca().set_xticklabels(countries, rotation=90)\n",
    "    plt.bar(countries, deaths)\n",
    "    plt.title('Deaths per country in ' + cont[0][1])\n",
    "    plt.xlabel('Country')\n",
    "    plt.ylabel('Deaths')\n",
    "    plt.show()"
   ]
  },
  {
   "cell_type": "code",
   "execution_count": 30,
   "metadata": {},
   "outputs": [],
   "source": [
    "def correlationData():\n",
    "    df = pd.read_csv(\"data.csv\")\n",
    "    corr = df.corr() # Calculate the correlation between the columns\n",
    "    plt.figure(figsize=(12, 8))\n",
    "    # cmap = sns.cubehelix_palette(rot=-.2)\n",
    "    sns.heatmap(corr, annot=True, cmap=plt.cm.Reds)\n",
    "    plt.show()"
   ]
  },
  {
   "cell_type": "code",
   "execution_count": 31,
   "metadata": {},
   "outputs": [],
   "source": [
    "def main():\n",
    "    # Cases and deaths of Greece\n",
    "    greece = countryData('Greece')\n",
    "    plotData(greece)\n",
    "    \n",
    "    # Cases and deaths of Italy\n",
    "    italy = countryData('Italy')\n",
    "    plotData(italy)\n",
    "    \n",
    "    # Cases and deaths of Europe\n",
    "    continentData = countriesPerContinentData()\n",
    "    plotCountriesPerContinentData(continentData, 'Europe')\n",
    "    \n",
    "    # Cases and deaths of North America\n",
    "    plotCountriesPerContinentData(continentData, 'North America')\n",
    "    \n",
    "    # Correlation between the columns\n",
    "    correlationData()"
   ]
  },
  {
   "cell_type": "code",
   "execution_count": null,
   "metadata": {},
   "outputs": [],
   "source": [
    "main()"
   ]
  }
 ],
 "metadata": {
  "kernelspec": {
   "display_name": "Python 3",
   "language": "python",
   "name": "python3"
  },
  "language_info": {
   "codemirror_mode": {
    "name": "ipython",
    "version": 3
   },
   "file_extension": ".py",
   "mimetype": "text/x-python",
   "name": "python",
   "nbconvert_exporter": "python",
   "pygments_lexer": "ipython3",
   "version": "3.7.4"
  },
  "orig_nbformat": 4
 },
 "nbformat": 4,
 "nbformat_minor": 2
}
