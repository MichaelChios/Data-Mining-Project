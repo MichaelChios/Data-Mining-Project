{
 "cells": [
  {
   "cell_type": "code",
   "execution_count": null,
   "metadata": {},
   "outputs": [],
   "source": [
    "import numpy as np\n",
    "import pandas as pd\n",
    "import matplotlib.pyplot as plt\n",
    "import seaborn as sns # for plotting\n",
    "from scipy.stats import zscore # for standardizing data\n",
    "from sklearn.impute import SimpleImputer # for imputing missing values\n",
    "from sklearn.preprocessing import StandardScaler # for standardizing data\n",
    "from sklearn.svm import SVR # for SVM regression"
   ]
  },
  {
   "cell_type": "code",
   "execution_count": null,
   "metadata": {},
   "outputs": [],
   "source": [
    "def checkMissingData():\n",
    "    df = pd.read_csv('data.csv')\n",
    "    print(df.info())\n",
    "    \n",
    "checkMissingData()"
   ]
  },
  {
   "cell_type": "code",
   "execution_count": null,
   "metadata": {},
   "outputs": [],
   "source": [
    "def missingDataHandler():\n",
    "    df = pd.read_csv('data.csv')\n",
    "    imputer = SimpleImputer(missing_values = np.nan, strategy = 'mean')\n",
    "    missingColumns = ['Daily tests', 'Cases', 'Deaths']\n",
    "    for column in missingColumns:\n",
    "        df[column] = imputer.fit_transform(df[column].values.reshape(-1, 1))\n",
    "    print(df.info())\n",
    "    return df\n",
    "    \n",
    "dataFrame = missingDataHandler()"
   ]
  },
  {
   "cell_type": "code",
   "execution_count": null,
   "metadata": {},
   "outputs": [],
   "source": [
    "# get the data for greece until 2020-12-31\n",
    "def getGreeceData(df):\n",
    "    df = df[df['Entity'] == 'Greece']\n",
    "    df = df[df['Date'] <= '2021-01-01']\n",
    "    return df\n",
    "\n",
    "dataFrame2 = getGreeceData(dataFrame)"
   ]
  },
  {
   "cell_type": "code",
   "execution_count": null,
   "metadata": {},
   "outputs": [],
   "source": [
    "def addPositivityPercent(df):\n",
    "    df['Daily Cases'] = abs(df['Cases'].diff())\n",
    "    df['Positivity percent'] = df['Daily Cases'] / df['Daily tests']\n",
    "    df['Date'] = pd.to_datetime(df['Date'])\n",
    "    imputer = SimpleImputer(missing_values = np.nan, strategy = 'mean')\n",
    "    df['Positivity percent'] = imputer.fit_transform(df['Positivity percent'].values.reshape(-1, 1))\n",
    "    df['Daily Cases'] = imputer.fit_transform(df['Daily Cases'].values.reshape(-1, 1))\n",
    "    return df\n",
    "\n",
    "dataset = addPositivityPercent(dataFrame2)\n",
    "\n",
    "print(dataset.info())"
   ]
  },
  {
   "cell_type": "code",
   "execution_count": null,
   "metadata": {},
   "outputs": [],
   "source": [
    "X = dataset.iloc[:, 12:-1].values\n",
    "y = dataset.iloc[:, -1].values\n",
    "y = y.reshape(len(y), 1)"
   ]
  },
  {
   "cell_type": "code",
   "execution_count": null,
   "metadata": {},
   "outputs": [],
   "source": [
    "sc_X = StandardScaler()\n",
    "sc_y = StandardScaler()\n",
    "X = sc_X.fit_transform(X)\n",
    "y = sc_y.fit_transform(y)"
   ]
  },
  {
   "cell_type": "code",
   "execution_count": null,
   "metadata": {},
   "outputs": [],
   "source": [
    "regressor = SVR(kernel = 'rbf')\n",
    "regressor.fit(X, y)"
   ]
  },
  {
   "cell_type": "code",
   "execution_count": null,
   "metadata": {},
   "outputs": [],
   "source": [
    "sc_y.inverse_transform(regressor.predict(sc_X.transform([[34044.0, 154796.0, 5742.0, 6.01e+2]])).reshape(1, -1))"
   ]
  },
  {
   "cell_type": "code",
   "execution_count": null,
   "metadata": {},
   "outputs": [],
   "source": [
    "plt.scatter(sc_X.inverse_transform(X), sc_y.inverse_transform(y), color = 'red')\n",
    "plt.plot(sc_X.inverse_transform(X), sc_y.inverse_transform(regressor.predict(X).reshape(-1,1)), color = 'blue')\n",
    "plt.title('Positivity percent prediction (SVR)')\n",
    "plt.xlabel('Daily tests, Cases, Deaths')\n",
    "plt.ylabel('Positivity percent')\n",
    "plt.show()"
   ]
  },
  {
   "cell_type": "code",
   "execution_count": null,
   "metadata": {},
   "outputs": [],
   "source": [
    "X_grid = np.arange(min(sc_X.inverse_transform(X)), max(sc_X.inverse_transform(X)), 0.1)\n",
    "X_grid = X_grid.reshape((len(X_grid), 1))\n",
    "plt.scatter(sc_X.inverse_transform(X), sc_y.inverse_transform(y), color = 'red')\n",
    "plt.plot(X_grid, sc_y.inverse_transform(regressor.predict(sc_X.transform(X_grid)).reshape(-1,1)), color = 'blue')\n",
    "plt.title('Positivity percent prediction (SVR)')\n",
    "plt.xlabel('Daily tests, Cases, Deaths')\n",
    "plt.ylabel('Positivity percent')\n",
    "plt.show()"
   ]
  }
 ],
 "metadata": {
  "kernelspec": {
   "display_name": "Python 3",
   "language": "python",
   "name": "python3"
  },
  "language_info": {
   "codemirror_mode": {
    "name": "ipython",
    "version": 3
   },
   "file_extension": ".py",
   "mimetype": "text/x-python",
   "name": "python",
   "nbconvert_exporter": "python",
   "pygments_lexer": "ipython3",
   "version": "3.7.4"
  },
  "orig_nbformat": 4
 },
 "nbformat": 4,
 "nbformat_minor": 2
}
